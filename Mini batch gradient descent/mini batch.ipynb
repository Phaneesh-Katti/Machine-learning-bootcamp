{
 "cells": [
  {
   "cell_type": "code",
   "execution_count": 1,
   "metadata": {},
   "outputs": [],
   "source": [
    "import numpy as np\n",
    "import pandas as pd\n",
    "import matplotlib.pyplot as plt\n",
    "from matplotlib import style\n",
    "style.use('fivethirtyeight')\n",
    "import warnings\n",
    "warnings.filterwarnings('ignore')"
   ]
  },
  {
   "cell_type": "code",
   "execution_count": 2,
   "metadata": {},
   "outputs": [
    {
     "data": {
      "text/html": [
       "<div>\n",
       "<style scoped>\n",
       "    .dataframe tbody tr th:only-of-type {\n",
       "        vertical-align: middle;\n",
       "    }\n",
       "\n",
       "    .dataframe tbody tr th {\n",
       "        vertical-align: top;\n",
       "    }\n",
       "\n",
       "    .dataframe thead th {\n",
       "        text-align: right;\n",
       "    }\n",
       "</style>\n",
       "<table border=\"1\" class=\"dataframe\">\n",
       "  <thead>\n",
       "    <tr style=\"text-align: right;\">\n",
       "      <th></th>\n",
       "      <th>YearsExperience</th>\n",
       "      <th>Salary</th>\n",
       "      <th>age</th>\n",
       "      <th>company_change</th>\n",
       "      <th>type</th>\n",
       "    </tr>\n",
       "  </thead>\n",
       "  <tbody>\n",
       "    <tr>\n",
       "      <th>0</th>\n",
       "      <td>1.1</td>\n",
       "      <td>39343</td>\n",
       "      <td>21</td>\n",
       "      <td>1</td>\n",
       "      <td>junior</td>\n",
       "    </tr>\n",
       "    <tr>\n",
       "      <th>1</th>\n",
       "      <td>1.3</td>\n",
       "      <td>46205</td>\n",
       "      <td>31</td>\n",
       "      <td>0</td>\n",
       "      <td>middle</td>\n",
       "    </tr>\n",
       "    <tr>\n",
       "      <th>2</th>\n",
       "      <td>1.5</td>\n",
       "      <td>37731</td>\n",
       "      <td>29</td>\n",
       "      <td>1</td>\n",
       "      <td>middle</td>\n",
       "    </tr>\n",
       "    <tr>\n",
       "      <th>3</th>\n",
       "      <td>2.0</td>\n",
       "      <td>43525</td>\n",
       "      <td>30</td>\n",
       "      <td>1</td>\n",
       "      <td>middle</td>\n",
       "    </tr>\n",
       "    <tr>\n",
       "      <th>4</th>\n",
       "      <td>2.2</td>\n",
       "      <td>39891</td>\n",
       "      <td>27</td>\n",
       "      <td>1</td>\n",
       "      <td>middle</td>\n",
       "    </tr>\n",
       "  </tbody>\n",
       "</table>\n",
       "</div>"
      ],
      "text/plain": [
       "   YearsExperience  Salary  age  company_change    type\n",
       "0              1.1   39343   21               1  junior\n",
       "1              1.3   46205   31               0  middle\n",
       "2              1.5   37731   29               1  middle\n",
       "3              2.0   43525   30               1  middle\n",
       "4              2.2   39891   27               1  middle"
      ]
     },
     "execution_count": 2,
     "metadata": {},
     "output_type": "execute_result"
    }
   ],
   "source": [
    "salary_data=pd.read_csv('salary.csv')\n",
    "salary_data.head()"
   ]
  },
  {
   "cell_type": "code",
   "execution_count": 3,
   "metadata": {},
   "outputs": [],
   "source": [
    "x=np.array(salary_data['YearsExperience'])\n",
    "y=np.array(salary_data['Salary'])\n",
    "l=len(x)"
   ]
  },
  {
   "cell_type": "code",
   "execution_count": 80,
   "metadata": {},
   "outputs": [],
   "source": [
    "from sklearn.model_selection import train_test_split"
   ]
  },
  {
   "cell_type": "code",
   "execution_count": 81,
   "metadata": {},
   "outputs": [],
   "source": [
    "x_train,x_test,y_train,y_test=train_test_split(x,y,random_state=32)\n",
    "lx=len(x_train)"
   ]
  },
  {
   "cell_type": "markdown",
   "metadata": {},
   "source": [
    "$ \\displaystyle h_{\\theta}(x)=\\theta_0+\\theta_1x \\mbox{ and } J(\\theta_0,\\theta_1)=\\frac{1}{2m}\\sum_{i=1}^{m} \\left(h_{\\theta}(x^{(i)})-y^{(i)}\\right)^2 $\n",
    "\n",
    "$ \\displaystyle\\theta_j:=\\theta_j-\\alpha \\frac{\\partial}{\\partial\\theta_j}\\left(\\frac{1}{2m}\\sum_{i=1}^{m} \\left(\\theta_0+\\theta_1x^{(i)}-y^{(i)}\\right)^2 \\right) $\n",
    "\n",
    "$ \\displaystyle \\frac{\\partial}{\\partial\\theta_0}\\left(\\frac{1}{2m}\\sum_{i=1}^{m} \\left(\\theta_0+\\theta_1x^{(i)}-y^{(i)}\\right)^2 \\right) = \\frac{1}{m}\\sum_{i=1}^{m} \\left(\\theta_0+\\theta_1x^{(i)}-y^{(i)}\\right) = \\frac{1}{m}\\sum_{i=1}^{m} \\left(h_{\\theta}(x^{(i)})-y^{(i)}\\right) $\n",
    "\n",
    "$ \\displaystyle \\frac{\\partial}{\\partial\\theta_1}\\left(\\frac{1}{2m}\\sum_{i=1}^{m} \\left(\\theta_0+\\theta_1x^{(i)}-y^{(i)}\\right)^2 \\right) = \\frac{1}{m}\\sum_{i=1}^{m} \\left(\\theta_0+\\theta_1x^{(i)}-y^{(i)}\\right).x^{(i)} = \\frac{1}{m}\\sum_{i=1}^{m} \\left(h_{\\theta}(x^{(i)})-y^{(i)}\\right).x^{(i)} $\n",
    "\n",
    "$ \\displaystyle\\mbox{ repeat until convergence }\\left\\{\\theta_j:=\\theta_j-\\alpha\\frac{\\partial}{\\partial\\theta_j}f(\\theta_0,\\theta_1)\\mbox{ for j=0,1} \\right\\} $"
   ]
  },
  {
   "cell_type": "code",
   "execution_count": 121,
   "metadata": {},
   "outputs": [],
   "source": [
    "class mini_batch_gradient_descent:\n",
    "    \n",
    "    def create_batch(self,x_train,y_train,batch_size):\n",
    "        mini_batches=[]\n",
    "        data=np.stack((x_train,y_train),axis=1)\n",
    "        np.random.shuffle(data)\n",
    "        no_of_batches=x_train.shape[0]//batch_size\n",
    "        for i in range(no_of_batches):\n",
    "            mini_batch=data[i*batch_size:(i+1)*batch_size]\n",
    "            mini_batches.append((mini_batch[:,0],mini_batch[:,1]))\n",
    "        if x_train.shape[0]%batch_size!=0:\n",
    "            mini_batch=data[(i+1)*batch_size:]\n",
    "            mini_batches.append((mini_batch[:,0],mini_batch[:,1]))\n",
    "        return mini_batches\n",
    "    \n",
    "    def fit(self,x_train,y_train,alpha,epochs,batch_size):\n",
    "        self.m=np.random.randn(1,1)\n",
    "        self.c=np.random.randn(1,1)\n",
    "        l=len(x_train)\n",
    "        for i in range(epochs):\n",
    "            batches=self.create_batch(x_train,y_train,batch_size)\n",
    "            for batch in batches:\n",
    "                xb=batch[0]\n",
    "                yb=batch[1]\n",
    "                xb=xb.reshape(1,xb.shape[0])\n",
    "                intecept=np.sum((np.dot(self.m,xb)+self.c)-yb)\n",
    "                slope=np.sum(((np.dot(self.m,xb)+self.c)-yb)*xb)\n",
    "                self.m=self.m-alpha*(slope/l)\n",
    "                self.c=self.c-alpha*(intecept/l)\n",
    "    \n",
    "    def slope_intercept(self):\n",
    "        print(f\"slope is {self.m[0][0]}\")\n",
    "        print(f\"intecept is {self.c[0][0]}\")\n",
    "    \n",
    "    def predict(self,x_test):\n",
    "        x_test=x_test.reshape(x_test.shape[0],1)\n",
    "        self.m=self.m.reshape(self.m.shape[1],self.m.shape[0])\n",
    "        result=np.dot(x_test,self.m)+self.c\n",
    "        return result"
   ]
  },
  {
   "cell_type": "code",
   "execution_count": 129,
   "metadata": {},
   "outputs": [],
   "source": [
    "mgd=mini_batch_gradient_descent()"
   ]
  },
  {
   "cell_type": "code",
   "execution_count": 148,
   "metadata": {},
   "outputs": [],
   "source": [
    "mgd.fit(x_train,y_train,0.01,4000,4)"
   ]
  },
  {
   "cell_type": "code",
   "execution_count": 149,
   "metadata": {},
   "outputs": [
    {
     "name": "stdout",
     "output_type": "stream",
     "text": [
      "slope is 9673.852015625836\n",
      "intecept is 25237.295695453966\n"
     ]
    }
   ],
   "source": [
    "mgd.slope_intercept()"
   ]
  },
  {
   "cell_type": "code",
   "execution_count": 150,
   "metadata": {},
   "outputs": [],
   "source": [
    "y_pred=mgd.predict(x_test)"
   ]
  },
  {
   "cell_type": "code",
   "execution_count": 151,
   "metadata": {},
   "outputs": [
    {
     "data": {
      "image/png": "[encoded data removed]",
      "text/plain": [
       "<Figure size 432x288 with 1 Axes>"
      ]
     },
     "metadata": {
      "needs_background": "light"
     },
     "output_type": "display_data"
    }
   ],
   "source": [
    "plt.plot(x_test,y_pred,marker='o',\n",
    "         color='blue',markerfacecolor='red',\n",
    "         markersize=10,linestyle='dashed')\n",
    "plt.scatter(x,y,marker='o',color='red')\n",
    "plt.xlabel(\"yexp\")\n",
    "plt.ylabel(\"slaary\")\n",
    "plt.title(\"Gradient descent\")\n",
    "plt.show()"
   ]
  },
  {
   "cell_type": "code",
   "execution_count": 152,
   "metadata": {},
   "outputs": [],
   "source": [
    "from sklearn.metrics import mean_squared_error,r2_score,mean_absolute_error\n",
    "from sklearn.metrics import explained_variance_score"
   ]
  },
  {
   "cell_type": "code",
   "execution_count": 153,
   "metadata": {},
   "outputs": [
    {
     "name": "stdout",
     "output_type": "stream",
     "text": [
      "33388861.7721548\n",
      "5778.309594695909\n",
      "5607.95491546728\n",
      "0.9608854333734218\n",
      "0.9543857044165449\n"
     ]
    }
   ],
   "source": [
    "print(mean_squared_error(y_test,y_pred))\n",
    "print(np.sqrt(mean_squared_error(y_test,y_pred)))\n",
    "print(mean_absolute_error(y_test,y_pred))\n",
    "print(explained_variance_score(y_test,y_pred))\n",
    "print(r2_score(y_test,y_pred))"
   ]
  },
  {
   "cell_type": "code",
   "execution_count": null,
   "metadata": {},
   "outputs": [],
   "source": []
  },
  {
   "cell_type": "code",
   "execution_count": null,
   "metadata": {},
   "outputs": [],
   "source": []
  }
 ],
 "metadata": {
  "kernelspec": {
   "display_name": "Python 3",
   "language": "python",
   "name": "python3"
  },
  "language_info": {
   "codemirror_mode": {
    "name": "ipython",
    "version": 3
   },
   "file_extension": ".py",
   "mimetype": "text/x-python",
   "name": "python",
   "nbconvert_exporter": "python",
   "pygments_lexer": "ipython3",
   "version": "3.7.3"
  }
 },
 "nbformat": 4,
 "nbformat_minor": 2
}
